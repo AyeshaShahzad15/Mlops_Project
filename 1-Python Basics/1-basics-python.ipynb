{
 "cells": [
  {
   "cell_type": "markdown",
   "metadata": {},
   "source": [
    "## Day-1st - Python Programming"
   ]
  },
  {
   "cell_type": "code",
   "execution_count": null,
   "metadata": {},
   "outputs": [],
   "source": [
    "##Syntax,Semantics\n",
    "##Single Line Comment \n",
    "##Multi Line Comment\n",
    "## Case Sensitivity\n",
    "## Indentation\n",
    "##Line Continuation\n",
    "##Multiple Statements in One Line"
   ]
  },
  {
   "cell_type": "code",
   "execution_count": 2,
   "metadata": {},
   "outputs": [
    {
     "data": {
      "text/plain": [
       "2"
      ]
     },
     "execution_count": 2,
     "metadata": {},
     "output_type": "execute_result"
    }
   ],
   "source": [
    "1+1\n"
   ]
  },
  {
   "cell_type": "code",
   "execution_count": 3,
   "metadata": {},
   "outputs": [
    {
     "name": "stdout",
     "output_type": "stream",
     "text": [
      "Ayesha is a data scientist\n"
     ]
    }
   ],
   "source": [
    "print(\"Ayesha is a data scientist\")"
   ]
  },
  {
   "cell_type": "code",
   "execution_count": null,
   "metadata": {},
   "outputs": [],
   "source": [
    "#Syntax\n",
    "## How to write a code"
   ]
  },
  {
   "cell_type": "code",
   "execution_count": null,
   "metadata": {},
   "outputs": [],
   "source": [
    "## Semantics\n",
    "## What the code is supposed to do"
   ]
  },
  {
   "cell_type": "code",
   "execution_count": null,
   "metadata": {},
   "outputs": [],
   "source": [
    "## Single Line Comments(##)\n",
    "# in ipynb files ## A note which is not the part of the command"
   ]
  },
  {
   "cell_type": "code",
   "execution_count": null,
   "metadata": {},
   "outputs": [],
   "source": [
    "## Multiline Comments (\"\"\"\"\"\") # example in test.py file\n",
    "# Notes # in py files "
   ]
  },
  {
   "cell_type": "code",
   "execution_count": null,
   "metadata": {},
   "outputs": [
    {
     "name": "stdout",
     "output_type": "stream",
     "text": [
      "Ayesha\n",
      "Shahzad\n"
     ]
    }
   ],
   "source": [
    "##Case Sensitivity\n",
    "#if one time small leter used for any variable same lettercase should be used\n",
    "name = \"Ayesha\"  #store categorical variables in \"\"\n",
    "Name = \"Shahzad\"\n",
    "print(name)\n",
    "print(Name)"
   ]
  },
  {
   "cell_type": "code",
   "execution_count": null,
   "metadata": {},
   "outputs": [
    {
     "name": "stdout",
     "output_type": "stream",
     "text": [
      "You are an adult\n",
      "You are underage\n"
     ]
    }
   ],
   "source": [
    "##Indentation: 4 spaces or 1 tab\n",
    "## Hierarachy , Structure of the code is managed on the base of indentation / depends upon it.\n",
    "age = 23\n",
    "if age>21:\n",
    "    print(\"You are an adult\")\n",
    "    #here space before print is indentation which should be maintained\n",
    "if age < 25 :\n",
    "    print(\"You are underage\") \n"
   ]
  },
  {
   "cell_type": "code",
   "execution_count": 6,
   "metadata": {},
   "outputs": [
    {
     "name": "stdout",
     "output_type": "stream",
     "text": [
      "111\n"
     ]
    }
   ],
   "source": [
    "##Line Continuation ## sign :/ ## can be used to continue the code lines\n",
    "total =  1+4+5+8+9+\\\n",
    "    34+50\n",
    "print(total)\n"
   ]
  },
  {
   "cell_type": "code",
   "execution_count": null,
   "metadata": {},
   "outputs": [
    {
     "name": "stdout",
     "output_type": "stream",
     "text": [
      "3\n",
      "21\n",
      "45\n"
     ]
    }
   ],
   "source": [
    "##Multiple Statements in One Line\n",
    "## To asign muultiple varables in one line \\ their result\n",
    "x=3;y=21;z=45\n",
    "print(x);print(y);print(z)"
   ]
  }
 ],
 "metadata": {
  "kernelspec": {
   "display_name": "Python 3",
   "language": "python",
   "name": "python3"
  },
  "language_info": {
   "codemirror_mode": {
    "name": "ipython",
    "version": 3
   },
   "file_extension": ".py",
   "mimetype": "text/x-python",
   "name": "python",
   "nbconvert_exporter": "python",
   "pygments_lexer": "ipython3",
   "version": "3.12.0"
  }
 },
 "nbformat": 4,
 "nbformat_minor": 2
}
