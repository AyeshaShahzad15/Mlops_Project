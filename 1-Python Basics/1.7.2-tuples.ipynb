{
 "cells": [
  {
   "cell_type": "code",
   "execution_count": null,
   "metadata": {},
   "outputs": [],
   "source": []
  },
  {
   "cell_type": "code",
   "execution_count": 6,
   "metadata": {},
   "outputs": [],
   "source": [
    "##Tuples ()\n",
    "##Immutable\n",
    " ##while list mutable []\n",
    " \n",
    " "
   ]
  },
  {
   "cell_type": "code",
   "execution_count": 7,
   "metadata": {},
   "outputs": [
    {
     "name": "stdout",
     "output_type": "stream",
     "text": [
      "<class 'tuple'>\n"
     ]
    }
   ],
   "source": [
    "tpl = (1,2,4,5,6) #can also add qualitative \n",
    "print(type(tpl))\n"
   ]
  },
  {
   "cell_type": "code",
   "execution_count": null,
   "metadata": {},
   "outputs": [],
   "source": [
    "##Acessing Tupels\n",
    "##Indexing\n",
    "\n",
    "\n",
    "##Slicing Operations \n",
    "print(tpl[0:])\n",
    "print(tpl[:5]) #upto 5\n",
    "\n",
    "##Reverse form using tupel"
   ]
  },
  {
   "cell_type": "code",
   "execution_count": null,
   "metadata": {},
   "outputs": [],
   "source": [
    "##Operations an Methods for Tupels\n",
    "tpl.count('Subhan')\n",
    "print(tpl.index('Subhan'))"
   ]
  },
  {
   "cell_type": "code",
   "execution_count": null,
   "metadata": {},
   "outputs": [],
   "source": [
    "##Concatination\n",
    "\n",
    "numbers= (1,2,4,5,6,7,7)\n",
    "\n",
    "mixed_tpl = tpl + numbers \n",
    "\n",
    "print(mixed_tpl)"
   ]
  },
  {
   "cell_type": "code",
   "execution_count": 8,
   "metadata": {},
   "outputs": [],
   "source": [
    "##Packing and Unpacking\n",
    "\n",
    "tpl = 2,3,4,5, 'ayesha', '21','Microbiology'"
   ]
  },
  {
   "cell_type": "code",
   "execution_count": 10,
   "metadata": {},
   "outputs": [
    {
     "name": "stdout",
     "output_type": "stream",
     "text": [
      "2\n",
      "[3, 4, 5, 'ayesha', '21']\n",
      "Microbiology\n"
     ]
    }
   ],
   "source": [
    "#Unpacking tupel with steric - into three parts \n",
    "\n",
    "first, *middle, last = tpl\n",
    "\n",
    "print(first)\n",
    "print(middle)\n",
    "print(last)"
   ]
  },
  {
   "cell_type": "code",
   "execution_count": 11,
   "metadata": {},
   "outputs": [
    {
     "data": {
      "text/plain": [
       "()"
      ]
     },
     "execution_count": 11,
     "metadata": {},
     "output_type": "execute_result"
    }
   ],
   "source": [
    "#Second Technique of Unpacking Tupels"
   ]
  },
  {
   "cell_type": "code",
   "execution_count": 13,
   "metadata": {},
   "outputs": [
    {
     "name": "stdout",
     "output_type": "stream",
     "text": [
      "Hi,2\n",
      "Hi,3\n",
      "Hi,4\n",
      "Hi,5\n",
      "Hi,ayesha\n",
      "Hi,21\n",
      "Hi,Microbiology\n"
     ]
    }
   ],
   "source": [
    "#Iterating over Tupels\n",
    "tpl = 2,3,4,5, 'ayesha', '21','Microbiology'\n",
    "\n",
    "for i in tpl:\n",
    "    #if i = str():\n",
    "        print(f\"Hi,{i}\")"
   ]
  },
  {
   "cell_type": "code",
   "execution_count": 16,
   "metadata": {},
   "outputs": [],
   "source": [
    "#Nested List\n",
    "\n",
    "nested_list = [[1,2,3,4],[\"Ayesha\",\"Alishba\",\"Rubab\"],[True, False, True, False]]\n",
    "nested_tupel = [(1,2,3,4),(\"Ayesha\",\"Alishba\",\"Rubab\"),(True, False, True, False)]"
   ]
  },
  {
   "cell_type": "code",
   "execution_count": 17,
   "metadata": {},
   "outputs": [
    {
     "name": "stdout",
     "output_type": "stream",
     "text": [
      "2\n",
      "4\n",
      "6\n",
      "8\n",
      "AyeshaAyesha\n",
      "AlishbaAlishba\n",
      "RubabRubab\n",
      "2\n",
      "0\n",
      "2\n",
      "0\n"
     ]
    }
   ],
   "source": [
    "for i in nested_tupel:\n",
    "    for j in i:\n",
    "        print(f\"{j*2}\")"
   ]
  },
  {
   "cell_type": "code",
   "execution_count": 19,
   "metadata": {},
   "outputs": [
    {
     "name": "stdout",
     "output_type": "stream",
     "text": [
      "[[1, 2, 'UAF', 4], ['Ayesha', 'Alishba', 'Rubab'], [True, False, True, False]]\n"
     ]
    }
   ],
   "source": [
    "#Modifying the list element\n",
    "nested_list[0][2] = \"UAF\"\n",
    "print(nested_list)\n"
   ]
  },
  {
   "cell_type": "code",
   "execution_count": null,
   "metadata": {},
   "outputs": [],
   "source": [
    "#Tupels can not be modified\n",
    "nested_tupel"
   ]
  },
  {
   "cell_type": "markdown",
   "metadata": {},
   "source": [
    "## Sets in Python\n",
    "- Creating sets \n",
    "- Acessing elememts \n",
    "- Methods and Operations "
   ]
  },
  {
   "cell_type": "code",
   "execution_count": 20,
   "metadata": {},
   "outputs": [
    {
     "name": "stdout",
     "output_type": "stream",
     "text": [
      "<class 'set'>\n"
     ]
    }
   ],
   "source": [
    "# Sets \n",
    "## Unordered , Unique Elements\n",
    "## is used ro remove duplicate elements\n",
    "\n",
    "new_set = {1,2,3,4,5,6,7,8} #open elements\n",
    "print(type(new_set))"
   ]
  },
  {
   "cell_type": "code",
   "execution_count": 21,
   "metadata": {},
   "outputs": [
    {
     "name": "stdout",
     "output_type": "stream",
     "text": [
      "{1, 2, 3, 5, 6, 7}\n"
     ]
    }
   ],
   "source": [
    "new_set = {1,2,3,3,3,3,5,5,5,6,6,7,7,7,7}\n",
    "print(new_set) #duplicates removed"
   ]
  },
  {
   "cell_type": "code",
   "execution_count": 22,
   "metadata": {},
   "outputs": [
    {
     "name": "stdout",
     "output_type": "stream",
     "text": [
      "{1, 2, 3, 5, 6, 7}\n"
     ]
    }
   ],
   "source": [
    "# To remove duplicates from a list\n",
    "lst = [1,1,1,2,2,3,3,3,3,3,5,5,6,6,7,7]\n",
    "new_set = set(lst)\n",
    "print(new_set)"
   ]
  },
  {
   "cell_type": "code",
   "execution_count": 24,
   "metadata": {},
   "outputs": [
    {
     "data": {
      "text/plain": [
       "{1, 2, 3, 5, 6, 7}"
      ]
     },
     "execution_count": 24,
     "metadata": {},
     "output_type": "execute_result"
    }
   ],
   "source": [
    "new_set.copy()\n",
    "new_set.discard\n"
   ]
  }
 ],
 "metadata": {
  "kernelspec": {
   "display_name": "Python 3",
   "language": "python",
   "name": "python3"
  },
  "language_info": {
   "codemirror_mode": {
    "name": "ipython",
    "version": 3
   },
   "file_extension": ".py",
   "mimetype": "text/x-python",
   "name": "python",
   "nbconvert_exporter": "python",
   "pygments_lexer": "ipython3",
   "version": "3.12.0"
  }
 },
 "nbformat": 4,
 "nbformat_minor": 2
}
